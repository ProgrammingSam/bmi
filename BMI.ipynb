{
 "cells": [
  {
   "cell_type": "code",
   "execution_count": 1,
   "metadata": {},
   "outputs": [],
   "source": [
    "# This application is dedicated to your calculate body mass index (BMI)"
   ]
  },
  {
   "cell_type": "code",
   "execution_count": 2,
   "metadata": {},
   "outputs": [],
   "source": [
    "# Insert your own data here : weight in kilogram and height in meter\n",
    "weight = 72\n",
    "height = 1.72"
   ]
  },
  {
   "cell_type": "code",
   "execution_count": 3,
   "metadata": {},
   "outputs": [
    {
     "name": "stdout",
     "output_type": "stream",
     "text": [
      "Your BMI is at  24.34\n"
     ]
    }
   ],
   "source": [
    "# Calculate and print your body mass index in kilogram per square meter\n",
    "bmi = weight / height**2\n",
    "print('Your BMI is at ',round(bmi, 2))"
   ]
  },
  {
   "cell_type": "code",
   "execution_count": 4,
   "metadata": {},
   "outputs": [
    {
     "name": "stdout",
     "output_type": "stream",
     "text": [
      "You are normal weight\n"
     ]
    }
   ],
   "source": [
    "# Interpret your BMI result\n",
    "if bmi < 18.5:\n",
    "    print('You are underweight')\n",
    "elif bmi >= 18.5 and bmi < 25: \n",
    "    print('You are normal weight')\n",
    "elif bmi >= 25 and bmi < 30: \n",
    "    print('You are overweight')\n",
    "else: \n",
    "    print('You are obese')"
   ]
  }
 ],
 "metadata": {
  "kernelspec": {
   "display_name": "Python 3",
   "language": "python",
   "name": "python3"
  },
  "language_info": {
   "codemirror_mode": {
    "name": "ipython",
    "version": 3
   },
   "file_extension": ".py",
   "mimetype": "text/x-python",
   "name": "python",
   "nbconvert_exporter": "python",
   "pygments_lexer": "ipython3",
   "version": "3.6.6+"
  }
 },
 "nbformat": 4,
 "nbformat_minor": 2
}
